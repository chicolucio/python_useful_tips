{
 "cells": [
  {
   "cell_type": "markdown",
   "metadata": {},
   "source": [
    "# String formatting"
   ]
  },
  {
   "cell_type": "markdown",
   "metadata": {},
   "source": [
    "[Docs](https://docs.python.org/3/library/string.html#module-string)\n",
    "\n",
    "[Site pyformat](https://pyformat.info/)\n",
    "\n",
    "[Corey Schafer basic video](https://www.youtube.com/watch?v=k9TUPpGqYTo&list=PL-osiE80TeTt2d9bfVyTiXJA-UTHn6WwU&index=2)\n",
    "\n",
    "[Corey Schafer advanced video](https://www.youtube.com/watch?v=vTX3IwquFkc&list=PL-osiE80TeTt2d9bfVyTiXJA-UTHn6WwU&index=22)\n",
    "\n",
    "[Corey Schafer f-strings](https://www.youtube.com/watch?v=nghuHvKLhJA&list=PL-osiE80TeTt2d9bfVyTiXJA-UTHn6WwU&index=35)"
   ]
  },
  {
   "cell_type": "markdown",
   "metadata": {},
   "source": [
    "## With placeholders (oldest)\n",
    "\n",
    "The symbol `%` is a placeholder."
   ]
  },
  {
   "cell_type": "code",
   "execution_count": 1,
   "metadata": {
    "ExecuteTime": {
     "end_time": "2019-12-31T00:09:13.417785Z",
     "start_time": "2019-12-31T00:09:13.412516Z"
    }
   },
   "outputs": [
    {
     "name": "stdout",
     "output_type": "stream",
     "text": [
      "I'm going to inject something here.\n",
      "I'm going to inject some text here, and more text here.\n",
      "I'm going to inject some text here, and more text here.\n",
      "He said his name was Fred.\n",
      "He said his name was 'Fred'.\n",
      "I once caught a fish this \tbig.\n",
      "I wrote 3.75 programs today.\n",
      "I wrote 3 programs today.\n",
      "Floating point numbers: 13.14\n",
      "Floating point numbers: 13\n",
      "Floating point numbers: 13.14400\n",
      "Floating point numbers:      13.14\n",
      "First: hi!, Second:  3.14, Third: 'bye!'\n"
     ]
    }
   ],
   "source": [
    "print(\"I'm going to inject %s here.\" % 'something')\n",
    "\n",
    "print(\"I'm going to inject %s text here, and %s text here.\" % ('some', 'more'))\n",
    "\n",
    "x, y = 'some', 'more'\n",
    "print(\"I'm going to inject %s text here, and %s text here.\" % (x, y))\n",
    "\n",
    "print('He said his name was %s.' % 'Fred')\n",
    "\n",
    "# string representation: 'Fred'\n",
    "print('He said his name was %r.' % 'Fred')\n",
    "\n",
    "print('I once caught a fish %s.' % 'this \\tbig')      # \\t = TAB\n",
    "\n",
    "print('I wrote %s programs today.' % 3.75)            # converts to string\n",
    "\n",
    "# converts to integers without rounding (3)\n",
    "print('I wrote %d programs today.' % 3.75)\n",
    "\n",
    "# 5 is the minimum number of characters and 2 is the decimals. Results -> 13.14\n",
    "print('Floating point numbers: %5.2f' % (13.144))\n",
    "\n",
    "print('Floating point numbers: %1.0f' % (13.144))     # -> 13\n",
    "\n",
    "print('Floating point numbers: %1.5f' % (13.144))     # -> 13.14400\n",
    "\n",
    "# Floating point numbers:      13.14       # Spaces!\n",
    "print('Floating point numbers: %10.2f' % (13.144))\n",
    "\n",
    "print('First: %s, Second: %5.2f, Third: %r' % ('hi!', 3.1415, 'bye!'))"
   ]
  },
  {
   "cell_type": "markdown",
   "metadata": {},
   "source": [
    "## With `.format()` method"
   ]
  },
  {
   "cell_type": "code",
   "execution_count": 2,
   "metadata": {
    "ExecuteTime": {
     "end_time": "2019-12-31T00:12:30.371604Z",
     "start_time": "2019-12-31T00:12:30.366100Z"
    }
   },
   "outputs": [
    {
     "name": "stdout",
     "output_type": "stream",
     "text": [
      "This is a string with an insert\n",
      "The quick brown fox\n",
      "First Object: 1, Second Object: Two, Third Object: 12.3\n",
      "A penny saved is a penny earned.\n",
      "\n",
      "Fruit    | Quantity \n",
      "Apples   |       3.0\n",
      "Oranges  |        10\n",
      "\n",
      "Left     |  Center  |    Right\n",
      "11       |    22    |       33\n",
      "\n",
      "Left==== | -Center- | ...Right\n",
      "11====== | ---22--- | ......33\n",
      "\n",
      "This is my ten-character, two-decimal number:     13.58\n",
      "This is my ten-character, two-decimal number:     13.58\n"
     ]
    }
   ],
   "source": [
    "print('This is a string with an {}'.format('insert'))\n",
    "\n",
    "# The quick brown fox\n",
    "print('The {2} {1} {0}'.format('fox', 'brown', 'quick'))\n",
    "\n",
    "print('First Object: {a}, Second Object: {b}, Third Object: {c}'.format(\n",
    "    a=1, b='Two', c=12.3))\n",
    "\n",
    "print('A {p} saved is a {p} earned.'.format(p='penny'))\n",
    "\n",
    "print()\n",
    "\n",
    "print('{0:8} | {1:9}'.format('Fruit', 'Quantity'))\n",
    "print('{0:8} | {1:9}'.format('Apples', 3.))\n",
    "print('{0:8} | {1:9}'.format('Oranges', 10))\n",
    "\n",
    "print()\n",
    "\n",
    "print('{0:<8} | {1:^8} | {2:>8}'.format('Left', 'Center', 'Right'))\n",
    "print('{0:<8} | {1:^8} | {2:>8}'.format(11, 22, 33))\n",
    "\n",
    "print()\n",
    "\n",
    "print('{0:=<8} | {1:-^8} | {2:.>8}'.format('Left', 'Center', 'Right'))\n",
    "print('{0:=<8} | {1:-^8} | {2:.>8}'.format(11, 22, 33))\n",
    "\n",
    "print()\n",
    "\n",
    "print('This is my ten-character, two-decimal number:%10.2f' %\n",
    "      13.579)  # with placeholder\n",
    "\n",
    "print('This is my ten-character, two-decimal number:{0:10.2f}'.format(13.579))"
   ]
  },
  {
   "cell_type": "markdown",
   "metadata": {},
   "source": [
    "## With f-strings (Python >= 3.6)"
   ]
  },
  {
   "cell_type": "code",
   "execution_count": 4,
   "metadata": {
    "ExecuteTime": {
     "end_time": "2019-12-31T00:14:42.899255Z",
     "start_time": "2019-12-31T00:14:42.895351Z"
    }
   },
   "outputs": [
    {
     "name": "stdout",
     "output_type": "stream",
     "text": [
      "He said his name is Fred.\n",
      "He said his name is 'Fred'\n",
      "My 10 character, four decimal number is:   23.4568\n",
      "My 10 character, four decimal number is:   23.4568\n",
      "My 10 character, four decimal number is:   23.4500\n",
      "My 10 character, four decimal number is:     23.45\n",
      "My 10 character, four decimal number is:   23.4500\n",
      "My 10 character, four decimal number is:   23.4500\n"
     ]
    }
   ],
   "source": [
    "name = 'Fred'\n",
    "print(f\"He said his name is {name}.\")\n",
    "print(f\"He said his name is {name!r}\")        # string representation 'Fred'\n",
    "\n",
    "num = 23.45678\n",
    "# with .format()\n",
    "print(\"My 10 character, four decimal number is:{0:10.4f}\".format(num))\n",
    "\n",
    "# Note that with f-strings, precision refers to the total number of digits, not \n",
    "# just those following the decimal\n",
    "print(f\"My 10 character, four decimal number is:{num:{10}.{6}}\")\n",
    "\n",
    "num = 23.45\n",
    "print(\"My 10 character, four decimal number is:{0:10.4f}\".format(num))\n",
    "# f-strings do not pad to the right of the decimal, even if precision allows it\n",
    "print(f\"My 10 character, four decimal number is:{num:{10}.{6}}\")\n",
    "\n",
    "num = 23.45\n",
    "print(\"My 10 character, four decimal number is:{0:10.4f}\".format(num))\n",
    "# you can always use .format() method syntax inside an f-string\n",
    "print(f\"My 10 character, four decimal number is:{num:10.4f}\")"
   ]
  },
  {
   "cell_type": "code",
   "execution_count": null,
   "metadata": {},
   "outputs": [],
   "source": []
  }
 ],
 "metadata": {
  "hide_input": false,
  "kernelspec": {
   "display_name": "Python 3",
   "language": "python",
   "name": "python3"
  },
  "language_info": {
   "codemirror_mode": {
    "name": "ipython",
    "version": 3
   },
   "file_extension": ".py",
   "mimetype": "text/x-python",
   "name": "python",
   "nbconvert_exporter": "python",
   "pygments_lexer": "ipython3",
   "version": "3.7.3"
  },
  "toc": {
   "base_numbering": 1,
   "nav_menu": {},
   "number_sections": true,
   "sideBar": true,
   "skip_h1_title": false,
   "title_cell": "Table of Contents",
   "title_sidebar": "Contents",
   "toc_cell": false,
   "toc_position": {},
   "toc_section_display": true,
   "toc_window_display": false
  },
  "varInspector": {
   "cols": {
    "lenName": 16,
    "lenType": 16,
    "lenVar": 40
   },
   "kernels_config": {
    "python": {
     "delete_cmd_postfix": "",
     "delete_cmd_prefix": "del ",
     "library": "var_list.py",
     "varRefreshCmd": "print(var_dic_list())"
    },
    "r": {
     "delete_cmd_postfix": ") ",
     "delete_cmd_prefix": "rm(",
     "library": "var_list.r",
     "varRefreshCmd": "cat(var_dic_list()) "
    }
   },
   "types_to_exclude": [
    "module",
    "function",
    "builtin_function_or_method",
    "instance",
    "_Feature"
   ],
   "window_display": false
  }
 },
 "nbformat": 4,
 "nbformat_minor": 2
}
