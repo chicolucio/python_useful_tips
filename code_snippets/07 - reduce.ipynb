{
 "cells": [
  {
   "cell_type": "markdown",
   "metadata": {},
   "source": [
    "# reduce"
   ]
  },
  {
   "cell_type": "markdown",
   "metadata": {},
   "source": [
    "[Useful link](https://www.geeksforgeeks.org/reduce-in-python/)\n",
    "\n",
    "The function `reduce(function, sequence)` continually applies the function to the sequence. It then returns a single value.\n",
    "\n",
    "If `seq = [ s1, s2, s3, ... , sn ]`, calling `reduce(function, sequence)` works like this:\n",
    "\n",
    "- At first the first two elements of seq will be applied to function, i.e. `func(s1,s2)`\n",
    "- The list on which `reduce()` works looks now like this: `[ function(s1, s2), s3, ... , sn ]`\n",
    "- In the next step the function will be applied on the previous result and the third element of the list, i.e. `function(function(s1, s2),s3)`\n",
    "- The list looks like this now: `[ function(function(s1, s2),s3), ... , sn ]`\n",
    "- It continues like this until just one element is left and return this element as the result of `reduce()`"
   ]
  },
  {
   "cell_type": "code",
   "execution_count": 1,
   "metadata": {
    "ExecuteTime": {
     "end_time": "2019-12-31T02:16:58.974926Z",
     "start_time": "2019-12-31T02:16:58.965652Z"
    }
   },
   "outputs": [
    {
     "data": {
      "text/plain": [
       "113"
      ]
     },
     "execution_count": 1,
     "metadata": {},
     "output_type": "execute_result"
    }
   ],
   "source": [
    "from functools import reduce\n",
    "\n",
    "lst = [47, 11, 42, 13]\n",
    "reduce(lambda x, y: x+y, lst)"
   ]
  },
  {
   "cell_type": "code",
   "execution_count": 2,
   "metadata": {
    "ExecuteTime": {
     "end_time": "2019-12-31T02:17:20.699102Z",
     "start_time": "2019-12-31T02:17:20.695709Z"
    }
   },
   "outputs": [
    {
     "data": {
      "text/plain": [
       "47"
      ]
     },
     "execution_count": 2,
     "metadata": {},
     "output_type": "execute_result"
    }
   ],
   "source": [
    "max_find = lambda a, b: a if (a > b) else b\n",
    "reduce(max_find, lst)"
   ]
  },
  {
   "cell_type": "code",
   "execution_count": null,
   "metadata": {},
   "outputs": [],
   "source": []
  }
 ],
 "metadata": {
  "hide_input": false,
  "kernelspec": {
   "display_name": "Python 3",
   "language": "python",
   "name": "python3"
  },
  "language_info": {
   "codemirror_mode": {
    "name": "ipython",
    "version": 3
   },
   "file_extension": ".py",
   "mimetype": "text/x-python",
   "name": "python",
   "nbconvert_exporter": "python",
   "pygments_lexer": "ipython3",
   "version": "3.7.3"
  },
  "toc": {
   "base_numbering": 1,
   "nav_menu": {},
   "number_sections": true,
   "sideBar": true,
   "skip_h1_title": false,
   "title_cell": "Table of Contents",
   "title_sidebar": "Contents",
   "toc_cell": false,
   "toc_position": {},
   "toc_section_display": true,
   "toc_window_display": false
  },
  "varInspector": {
   "cols": {
    "lenName": 16,
    "lenType": 16,
    "lenVar": 40
   },
   "kernels_config": {
    "python": {
     "delete_cmd_postfix": "",
     "delete_cmd_prefix": "del ",
     "library": "var_list.py",
     "varRefreshCmd": "print(var_dic_list())"
    },
    "r": {
     "delete_cmd_postfix": ") ",
     "delete_cmd_prefix": "rm(",
     "library": "var_list.r",
     "varRefreshCmd": "cat(var_dic_list()) "
    }
   },
   "types_to_exclude": [
    "module",
    "function",
    "builtin_function_or_method",
    "instance",
    "_Feature"
   ],
   "window_display": false
  }
 },
 "nbformat": 4,
 "nbformat_minor": 2
}
