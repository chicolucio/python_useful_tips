{
 "cells": [
  {
   "cell_type": "markdown",
   "metadata": {},
   "source": [
    "# Environments"
   ]
  },
  {
   "cell_type": "markdown",
   "metadata": {},
   "source": [
    "## conda environments"
   ]
  },
  {
   "cell_type": "markdown",
   "metadata": {},
   "source": [
    "### Creating and removing conda environments"
   ]
  },
  {
   "cell_type": "markdown",
   "metadata": {},
   "source": [
    "[Docs](https://docs.conda.io/projects/conda/en/latest/user-guide/tasks/manage-environments.html)\n",
    "\n",
    "[Corey Schafer video](https://www.youtube.com/watch?v=YJC6ldI3hWk&t=428s)\n",
    "\n",
    "```bash\n",
    "conda create --name your_env_name python=3.7\n",
    "```\n",
    "\n",
    "You could create the environment using the command below:\n",
    "```bash\n",
    "conda env create -f environment.yml\n",
    "```\n",
    "\n",
    "The `-f` flag stands for file and the filename of the YAML file should immediately follow the `-f` flag.\n",
    "\n",
    "Perhaps you’d like to duplicate the application onto another server and want the exact same setup for consistency. If that’s the case, then you can run the command below.\n",
    "\n",
    "```bash\n",
    "conda env export > my_environment.yml\n",
    "```\n",
    "\n",
    "So now that you have an environment created and assuming that you’re using conda, let’s quickly verify that it exists using the command:\n",
    "\n",
    "```bash\n",
    "conda info --envs\n",
    "```\n",
    "\n",
    "After confirming that you created the environment, you can now actually use it. We can accomplish this by typing (assuming your environment is underneath your base):\n",
    "\n",
    "```bash\n",
    "conda activate your_env_name\n",
    "```\n",
    "\n",
    "To stop using the environment, type in\n",
    "\n",
    "```bash\n",
    "conda deactivate\n",
    "```\n",
    "\n",
    "If you would like to get rid of the entire environment, merely type in:\n",
    "\n",
    "```bash\n",
    "conda remove --name your_env_name --all\n",
    "```\n",
    "\n",
    "The ` — all` flag is to remove all packages from the environment and is necessary to completely clean the environment."
   ]
  },
  {
   "cell_type": "markdown",
   "metadata": {},
   "source": [
    "### conda and Jupyter Notebooks"
   ]
  },
  {
   "cell_type": "markdown",
   "metadata": {},
   "source": [
    "Working with environments with Conda and Jupyter\n",
    "\n",
    "In *base* environment:\n",
    "\n",
    "```bash\n",
    "conda install nb_conda\n",
    "```\n",
    "\n",
    "In *my_env* environment:\n",
    "\n",
    "```bash\n",
    "conda install ipykernel\n",
    "```\n",
    "\n",
    "This way you are going to be able to select the kernel inside Jupyter menu."
   ]
  },
  {
   "cell_type": "markdown",
   "metadata": {},
   "source": [
    "## venv environments"
   ]
  },
  {
   "cell_type": "markdown",
   "metadata": {},
   "source": [
    "[Docs](https://docs.python.org/3/library/venv.html)\n",
    "\n",
    "[Real Python - Virtual Environments](https://realpython.com/python-virtual-environments-a-primer/)\n",
    "\n",
    "[Corey Schafer - venv video](https://www.youtube.com/watch?v=Kg1Yvry_Ydk)"
   ]
  },
  {
   "cell_type": "markdown",
   "metadata": {},
   "source": [
    "1. Create a project folder and navigate to it\n",
    "2. Create a virtual environment in this folder\n",
    "\n",
    "```bash\n",
    "python -m venv .env\n",
    "```\n",
    "\n",
    "3. Activate the environment\n",
    "\n",
    "```bash\n",
    "source .env/bin/activate\n",
    "```\n",
    "\n",
    "4. Verify the path\n",
    "\n",
    "```bash\n",
    "which python\n",
    "```\n",
    "\n",
    "5. Verify the folder structure\n",
    "\n",
    "```bash\n",
    "tree\n",
    "```\n",
    "\n",
    "6. Install packages\n",
    "\n",
    "```bash\n",
    "pip install wherever\n",
    "```\n",
    "\n",
    "7. Deactivate\n",
    "\n",
    "```bash\n",
    "deactivate\n",
    "```"
   ]
  },
  {
   "cell_type": "markdown",
   "metadata": {},
   "source": [
    "# Hiding passwords and secret keys in environment variables\n",
    "\n",
    "[Corey Schafer video](https://www.youtube.com/watch?v=5iWhQWVXosU&list=PL-osiE80TeTt2d9bfVyTiXJA-UTHn6WwU&index=54)"
   ]
  },
  {
   "cell_type": "code",
   "execution_count": null,
   "metadata": {},
   "outputs": [],
   "source": []
  }
 ],
 "metadata": {
  "hide_input": false,
  "kernelspec": {
   "display_name": "Python 3",
   "language": "python",
   "name": "python3"
  },
  "language_info": {
   "codemirror_mode": {
    "name": "ipython",
    "version": 3
   },
   "file_extension": ".py",
   "mimetype": "text/x-python",
   "name": "python",
   "nbconvert_exporter": "python",
   "pygments_lexer": "ipython3",
   "version": "3.7.3"
  },
  "toc": {
   "base_numbering": 1,
   "nav_menu": {},
   "number_sections": true,
   "sideBar": true,
   "skip_h1_title": false,
   "title_cell": "Table of Contents",
   "title_sidebar": "Contents",
   "toc_cell": false,
   "toc_position": {},
   "toc_section_display": true,
   "toc_window_display": false
  },
  "varInspector": {
   "cols": {
    "lenName": 16,
    "lenType": 16,
    "lenVar": 40
   },
   "kernels_config": {
    "python": {
     "delete_cmd_postfix": "",
     "delete_cmd_prefix": "del ",
     "library": "var_list.py",
     "varRefreshCmd": "print(var_dic_list())"
    },
    "r": {
     "delete_cmd_postfix": ") ",
     "delete_cmd_prefix": "rm(",
     "library": "var_list.r",
     "varRefreshCmd": "cat(var_dic_list()) "
    }
   },
   "types_to_exclude": [
    "module",
    "function",
    "builtin_function_or_method",
    "instance",
    "_Feature"
   ],
   "window_display": false
  }
 },
 "nbformat": 4,
 "nbformat_minor": 2
}
