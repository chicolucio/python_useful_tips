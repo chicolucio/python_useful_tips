{
 "cells": [
  {
   "cell_type": "markdown",
   "metadata": {
    "ExecuteTime": {
     "end_time": "2019-12-31T00:01:58.651356Z",
     "start_time": "2019-12-31T00:01:58.645992Z"
    }
   },
   "source": [
    "# IPython autoreload\n",
    "\n",
    "IPython extension to reload modules before executing user code.\n",
    "\n",
    "`autoreload` reloads modules automatically before entering the execution of code typed at the IPython prompt.\n",
    "\n",
    "[Docs](https://ipython.readthedocs.io/en/stable/config/extensions/autoreload.html)\n",
    "\n",
    "Some StackOverflow links that show the importance and usefulness of this extension:\n",
    "\n",
    "[StackOverflow - Autoreload of modules in Python](https://stackoverflow.com/questions/1907993/autoreload-of-modules-in-ipython)\n",
    "\n",
    "[StackOverflow - Reloading submodules in IPython](https://stackoverflow.com/questions/5364050/reloading-submodules-in-ipython)"
   ]
  },
  {
   "cell_type": "code",
   "execution_count": 2,
   "metadata": {
    "ExecuteTime": {
     "end_time": "2019-12-31T00:02:18.537301Z",
     "start_time": "2019-12-31T00:02:18.521988Z"
    }
   },
   "outputs": [],
   "source": [
    "%load_ext autoreload"
   ]
  },
  {
   "cell_type": "code",
   "execution_count": 3,
   "metadata": {
    "ExecuteTime": {
     "end_time": "2019-12-31T00:02:25.303073Z",
     "start_time": "2019-12-31T00:02:25.300478Z"
    }
   },
   "outputs": [],
   "source": [
    "%autoreload 2"
   ]
  },
  {
   "cell_type": "code",
   "execution_count": null,
   "metadata": {},
   "outputs": [],
   "source": []
  }
 ],
 "metadata": {
  "hide_input": false,
  "kernelspec": {
   "display_name": "Python 3",
   "language": "python",
   "name": "python3"
  },
  "language_info": {
   "codemirror_mode": {
    "name": "ipython",
    "version": 3
   },
   "file_extension": ".py",
   "mimetype": "text/x-python",
   "name": "python",
   "nbconvert_exporter": "python",
   "pygments_lexer": "ipython3",
   "version": "3.7.3"
  },
  "toc": {
   "base_numbering": 1,
   "nav_menu": {},
   "number_sections": true,
   "sideBar": true,
   "skip_h1_title": false,
   "title_cell": "Table of Contents",
   "title_sidebar": "Contents",
   "toc_cell": false,
   "toc_position": {},
   "toc_section_display": true,
   "toc_window_display": false
  },
  "varInspector": {
   "cols": {
    "lenName": 16,
    "lenType": 16,
    "lenVar": 40
   },
   "kernels_config": {
    "python": {
     "delete_cmd_postfix": "",
     "delete_cmd_prefix": "del ",
     "library": "var_list.py",
     "varRefreshCmd": "print(var_dic_list())"
    },
    "r": {
     "delete_cmd_postfix": ") ",
     "delete_cmd_prefix": "rm(",
     "library": "var_list.r",
     "varRefreshCmd": "cat(var_dic_list()) "
    }
   },
   "types_to_exclude": [
    "module",
    "function",
    "builtin_function_or_method",
    "instance",
    "_Feature"
   ],
   "window_display": false
  }
 },
 "nbformat": 4,
 "nbformat_minor": 2
}
