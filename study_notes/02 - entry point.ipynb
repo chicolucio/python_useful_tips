{
 "cells": [
  {
   "cell_type": "markdown",
   "metadata": {},
   "source": [
    "# Python entry point\n",
    "\n",
    "The module (.py file) is the entry point."
   ]
  },
  {
   "cell_type": "code",
   "execution_count": 1,
   "metadata": {
    "ExecuteTime": {
     "end_time": "2020-01-02T01:46:09.107667Z",
     "start_time": "2020-01-02T01:46:08.973068Z"
    }
   },
   "outputs": [
    {
     "name": "stdout",
     "output_type": "stream",
     "text": [
      "Python is 42\r\n"
     ]
    }
   ],
   "source": [
    "!python my_program.py"
   ]
  },
  {
   "cell_type": "markdown",
   "metadata": {},
   "source": [
    "Running directly `python` at the command-line, the interactive interpreter creates an empty module and all variables are defined in the namespace of the module. The global variables are associated with the module, not the program process."
   ]
  },
  {
   "cell_type": "code",
   "execution_count": 2,
   "metadata": {
    "ExecuteTime": {
     "end_time": "2020-01-02T01:46:34.761691Z",
     "start_time": "2020-01-02T01:46:34.754264Z"
    }
   },
   "outputs": [
    {
     "data": {
      "text/plain": [
       "{'__name__': '__main__',\n",
       " '__doc__': 'Automatically created module for IPython interactive environment',\n",
       " '__package__': None,\n",
       " '__loader__': None,\n",
       " '__spec__': None,\n",
       " '__builtin__': <module 'builtins' (built-in)>,\n",
       " '__builtins__': <module 'builtins' (built-in)>,\n",
       " '_ih': ['',\n",
       "  \"get_ipython().system('python my_program.py')\",\n",
       "  'globals()  # built-in function'],\n",
       " '_oh': {},\n",
       " '_dh': ['/home/chicolucio/Dropbox/technology/python/projects/useful_tips/study_notes'],\n",
       " 'In': ['',\n",
       "  \"get_ipython().system('python my_program.py')\",\n",
       "  'globals()  # built-in function'],\n",
       " 'Out': {},\n",
       " 'get_ipython': <function IPython.core.getipython.get_ipython()>,\n",
       " 'exit': <IPython.core.autocall.ZMQExitAutocall at 0x7fc1c4ca5a90>,\n",
       " 'quit': <IPython.core.autocall.ZMQExitAutocall at 0x7fc1c4ca5a90>,\n",
       " '_': '',\n",
       " '__': '',\n",
       " '___': '',\n",
       " 'json': <module 'json' from '/opt/anaconda/anaconda3/lib/python3.7/json/__init__.py'>,\n",
       " 'yapf_reformat': <function __main__.yapf_reformat(cell_text)>,\n",
       " 'getsizeof': <function sys.getsizeof>,\n",
       " 'NamespaceMagics': IPython.core.magics.namespace.NamespaceMagics,\n",
       " '_nms': <IPython.core.magics.namespace.NamespaceMagics at 0x7fc1c0b33390>,\n",
       " '_Jupyter': <ipykernel.zmqshell.ZMQInteractiveShell at 0x7fc1c70d7ac8>,\n",
       " 'np': <module 'numpy' from '/opt/anaconda/anaconda3/lib/python3.7/site-packages/numpy/__init__.py'>,\n",
       " '_getsizeof': <function __main__._getsizeof(x)>,\n",
       " '_getshapeof': <function __main__._getshapeof(x)>,\n",
       " 'var_dic_list': <function __main__.var_dic_list()>,\n",
       " '_i': '!python my_program.py',\n",
       " '_ii': '',\n",
       " '_iii': '',\n",
       " '_i1': '!python my_program.py',\n",
       " '_exit_code': 0,\n",
       " '_i2': 'globals()  # built-in function'}"
      ]
     },
     "execution_count": 2,
     "metadata": {},
     "output_type": "execute_result"
    }
   ],
   "source": [
    "globals()  # built-in function"
   ]
  },
  {
   "cell_type": "code",
   "execution_count": 3,
   "metadata": {
    "ExecuteTime": {
     "end_time": "2020-01-02T01:47:56.148797Z",
     "start_time": "2020-01-02T01:47:56.145329Z"
    }
   },
   "outputs": [
    {
     "data": {
      "text/plain": [
       "{'__name__': '__main__',\n",
       " '__doc__': 'Automatically created module for IPython interactive environment',\n",
       " '__package__': None,\n",
       " '__loader__': None,\n",
       " '__spec__': None,\n",
       " '__builtin__': <module 'builtins' (built-in)>,\n",
       " '__builtins__': <module 'builtins' (built-in)>,\n",
       " '_ih': ['',\n",
       "  \"get_ipython().system('python my_program.py')\",\n",
       "  'globals()  # built-in function',\n",
       "  \"# creating a global variable\\n\\nmessage = 'Python r0x'\\n\\n# check the variable listed withi globals()\\n\\nglobals()\"],\n",
       " '_oh': {2: {...}},\n",
       " '_dh': ['/home/chicolucio/Dropbox/technology/python/projects/useful_tips/study_notes'],\n",
       " 'In': ['',\n",
       "  \"get_ipython().system('python my_program.py')\",\n",
       "  'globals()  # built-in function',\n",
       "  \"# creating a global variable\\n\\nmessage = 'Python r0x'\\n\\n# check the variable listed withi globals()\\n\\nglobals()\"],\n",
       " 'Out': {2: {...}},\n",
       " 'get_ipython': <function IPython.core.getipython.get_ipython()>,\n",
       " 'exit': <IPython.core.autocall.ZMQExitAutocall at 0x7fc1c4ca5a90>,\n",
       " 'quit': <IPython.core.autocall.ZMQExitAutocall at 0x7fc1c4ca5a90>,\n",
       " '_': {...},\n",
       " '__': '',\n",
       " '___': '',\n",
       " 'json': <module 'json' from '/opt/anaconda/anaconda3/lib/python3.7/json/__init__.py'>,\n",
       " 'yapf_reformat': <function __main__.yapf_reformat(cell_text)>,\n",
       " 'getsizeof': <function sys.getsizeof>,\n",
       " 'NamespaceMagics': IPython.core.magics.namespace.NamespaceMagics,\n",
       " '_nms': <IPython.core.magics.namespace.NamespaceMagics at 0x7fc1c0b33390>,\n",
       " '_Jupyter': <ipykernel.zmqshell.ZMQInteractiveShell at 0x7fc1c70d7ac8>,\n",
       " 'np': <module 'numpy' from '/opt/anaconda/anaconda3/lib/python3.7/site-packages/numpy/__init__.py'>,\n",
       " '_getsizeof': <function __main__._getsizeof(x)>,\n",
       " '_getshapeof': <function __main__._getshapeof(x)>,\n",
       " 'var_dic_list': <function __main__.var_dic_list()>,\n",
       " '_i': 'globals()  # built-in function',\n",
       " '_ii': '!python my_program.py',\n",
       " '_iii': '',\n",
       " '_i1': '!python my_program.py',\n",
       " '_exit_code': 0,\n",
       " '_i2': 'globals()  # built-in function',\n",
       " '_2': {...},\n",
       " '_i3': \"# creating a global variable\\n\\nmessage = 'Python r0x'\\n\\n# check the variable listed withi globals()\\n\\nglobals()\",\n",
       " 'message': 'Python r0x'}"
      ]
     },
     "execution_count": 3,
     "metadata": {},
     "output_type": "execute_result"
    }
   ],
   "source": [
    "# creating a global variable\n",
    "\n",
    "message = 'Python r0x'\n",
    "\n",
    "# check the variable listed withi globals()\n",
    "\n",
    "globals()"
   ]
  },
  {
   "cell_type": "markdown",
   "metadata": {},
   "source": [
    "**Global variables**: defined in the body of the module.\n",
    "\n",
    "**Local variables**: defined inside a function.\n",
    "\n",
    "Let's take a look at an example code:\n"
   ]
  },
  {
   "cell_type": "code",
   "execution_count": 4,
   "metadata": {
    "ExecuteTime": {
     "end_time": "2020-01-02T01:56:23.395535Z",
     "start_time": "2020-01-02T01:56:23.285144Z"
    }
   },
   "outputs": [
    {
     "name": "stdout",
     "output_type": "stream",
     "text": [
      "import os\r\n",
      "\r\n",
      "\r\n",
      "def main():\r\n",
      "    print('Hello world!')\r\n",
      "    print(\"This is Alice's greeting.\")\r\n",
      "    print('This is Bob\\'s greetin')\r\n",
      "\r\n",
      "    foo(5, 10)\r\n",
      "\r\n",
      "    print('=' * 10)\r\n",
      "    text = 'The current working directory is '\r\n",
      "    print(text + os.getcwd())\r\n",
      "\r\n",
      "    foods = ['apples', 'oranges', 'cats']\r\n",
      "\r\n",
      "    for food in foods:\r\n",
      "        print('I like to eat', food)\r\n",
      "\r\n",
      "    print('Count to ten:')\r\n",
      "    for i in range(1, 11):\r\n",
      "        print(i)\r\n",
      "\r\n",
      "\r\n",
      "def foo(a, b):\r\n",
      "    value = a + b\r\n",
      "\r\n",
      "    print('%s plus %s is equal to %s' % (a, b, value))\r\n",
      "\r\n",
      "    if value < 50:\r\n",
      "        print('foo')\r\n",
      "    elif (value >= 50) and ((a == 42) or (b == 24)):\r\n",
      "        print('bar')\r\n",
      "    else:\r\n",
      "        print('moo')\r\n",
      "\r\n",
      "    '''A multi-\r\n",
      "    line string, but can also be a\r\n",
      "    multi-line comment'''\r\n",
      "\r\n",
      "    return value  # This is a one-line comment\r\n",
      "\r\n",
      "\r\n",
      "if __name__ == \"__main__\":\r\n",
      "    main()\r\n"
     ]
    }
   ],
   "source": [
    "!cat example.py"
   ]
  },
  {
   "cell_type": "markdown",
   "metadata": {},
   "source": [
    "Global variables: os, main, foo, `__name__`\n",
    "\n",
    "Local variables: text, food, i (function main); value (function foo)\n",
    "\n",
    "[Foobar history](https://en.wikipedia.org/wiki/Foobar)\n",
    "\n",
    "![Namespaces](images/type_namespaces.png)"
   ]
  },
  {
   "cell_type": "code",
   "execution_count": null,
   "metadata": {},
   "outputs": [],
   "source": []
  }
 ],
 "metadata": {
  "hide_input": false,
  "kernelspec": {
   "display_name": "Python 3",
   "language": "python",
   "name": "python3"
  },
  "language_info": {
   "codemirror_mode": {
    "name": "ipython",
    "version": 3
   },
   "file_extension": ".py",
   "mimetype": "text/x-python",
   "name": "python",
   "nbconvert_exporter": "python",
   "pygments_lexer": "ipython3",
   "version": "3.7.3"
  },
  "toc": {
   "base_numbering": 1,
   "nav_menu": {},
   "number_sections": true,
   "sideBar": true,
   "skip_h1_title": false,
   "title_cell": "Table of Contents",
   "title_sidebar": "Contents",
   "toc_cell": false,
   "toc_position": {},
   "toc_section_display": true,
   "toc_window_display": false
  },
  "varInspector": {
   "cols": {
    "lenName": 16,
    "lenType": 16,
    "lenVar": 40
   },
   "kernels_config": {
    "python": {
     "delete_cmd_postfix": "",
     "delete_cmd_prefix": "del ",
     "library": "var_list.py",
     "varRefreshCmd": "print(var_dic_list())"
    },
    "r": {
     "delete_cmd_postfix": ") ",
     "delete_cmd_prefix": "rm(",
     "library": "var_list.r",
     "varRefreshCmd": "cat(var_dic_list()) "
    }
   },
   "types_to_exclude": [
    "module",
    "function",
    "builtin_function_or_method",
    "instance",
    "_Feature"
   ],
   "window_display": false
  }
 },
 "nbformat": 4,
 "nbformat_minor": 2
}
